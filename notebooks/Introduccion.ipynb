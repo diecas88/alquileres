{
 "cells": [
  {
   "cell_type": "markdown",
   "id": "132ca4a9",
   "metadata": {},
   "source": [
    "inicio de script"
   ]
  },
  {
   "cell_type": "code",
   "execution_count": 85,
   "id": "bd242cbf",
   "metadata": {},
   "outputs": [],
   "source": [
    "import pandas as pd\n",
    "import numpy as np\n",
    "import seaborn as sns\n",
    "import matplotlib.pyplot as plt\n",
    "%matplotlib inline"
   ]
  },
  {
   "cell_type": "markdown",
   "id": "1fa1f5fa",
   "metadata": {},
   "source": [
    "cargar archivo txt"
   ]
  },
  {
   "cell_type": "code",
   "execution_count": 3,
   "id": "dce8bba0",
   "metadata": {},
   "outputs": [],
   "source": [
    "data = pd.read_csv(\"../data/raw/data_raw.txt\",\n",
    "                  names = [\"id\",\"titulo\",\"precio\",\"descripcion\",\"comentarios\",\"rooms\",\"bathrooms\",\"space m2\"]\n",
    "                  )"
   ]
  },
  {
   "cell_type": "markdown",
   "id": "25062637",
   "metadata": {},
   "source": [
    "adecuar columnas para ubicacion, precio y espacio de inmueble"
   ]
  },
  {
   "cell_type": "code",
   "execution_count": 4,
   "id": "1d938d30",
   "metadata": {},
   "outputs": [],
   "source": [
    "data = pd.DataFrame(data)\n",
    "data[\"ubicacion\"] = data[\"titulo\"].str.slice(start=27)"
   ]
  },
  {
   "cell_type": "code",
   "execution_count": 5,
   "id": "45f4820b",
   "metadata": {},
   "outputs": [],
   "source": [
    "data[\"precio\"] = data[\"precio\"].str.replace(\".\",\"\", regex=False).astype(int)\n"
   ]
  },
  {
   "cell_type": "code",
   "execution_count": 6,
   "id": "be5878d3",
   "metadata": {},
   "outputs": [],
   "source": [
    "data[\"space m2\"] = data[\"space m2\"].str.replace(\" m²\",\"\", regex=False).astype(int)\n"
   ]
  },
  {
   "cell_type": "code",
   "execution_count": 7,
   "id": "2f88ef53",
   "metadata": {},
   "outputs": [],
   "source": [
    "data[\"comentarios\"] = data[\"comentarios\"].str.split('--')\n"
   ]
  },
  {
   "cell_type": "code",
   "execution_count": 8,
   "id": "5d89a302",
   "metadata": {},
   "outputs": [
    {
     "data": {
      "text/plain": [
       "Bucaramanga                                                     355\n",
       "Antonia Santos                                                   27\n",
       "San Alonso                                                       11\n",
       "El Prado                                                          7\n",
       "Alarcón                                                           6\n",
       "Mejoras Públicas                                                  4\n",
       "Atlántico - Barranquilla - El Prado                               2\n",
       "Santander - Floridablanca - Casco Antiguo&#x2F;floridablanca      1\n",
       "Santander - Bucaramanga - Provenza                                1\n",
       "Comuna 12 Cabecera del Llano                                      1\n",
       "Name: ubicacion, dtype: int64"
      ]
     },
     "execution_count": 8,
     "metadata": {},
     "output_type": "execute_result"
    }
   ],
   "source": [
    "data[\"ubicacion\"].value_counts()"
   ]
  },
  {
   "cell_type": "code",
   "execution_count": 9,
   "id": "72b3f6fa",
   "metadata": {},
   "outputs": [],
   "source": [
    "data[\"ubicacion\"] = data[\"ubicacion\"].str.replace(\"Comuna 12 Cabecera del Llano\", \"Cabecera\", regex=False)\n",
    "data[\"ubicacion\"] = data[\"ubicacion\"].str.replace(\"Santander - Bucaramanga - Provenza\", \"Provenza\", regex=False)\n",
    "data[\"ubicacion\"] = data[\"ubicacion\"].str.replace(\"Santander - Floridablanca - Casco Antiguo&#x2F;floridablanca\", \"Floridablanca\", regex=False)"
   ]
  },
  {
   "cell_type": "code",
   "execution_count": 10,
   "id": "0e16e3fe",
   "metadata": {},
   "outputs": [],
   "source": [
    "data[\"precio\"] = data.precio/1000"
   ]
  },
  {
   "cell_type": "code",
   "execution_count": 11,
   "id": "5a43c2f7",
   "metadata": {},
   "outputs": [
    {
     "data": {
      "text/html": [
       "<div>\n",
       "<style scoped>\n",
       "    .dataframe tbody tr th:only-of-type {\n",
       "        vertical-align: middle;\n",
       "    }\n",
       "\n",
       "    .dataframe tbody tr th {\n",
       "        vertical-align: top;\n",
       "    }\n",
       "\n",
       "    .dataframe thead th {\n",
       "        text-align: right;\n",
       "    }\n",
       "</style>\n",
       "<table border=\"1\" class=\"dataframe\">\n",
       "  <thead>\n",
       "    <tr style=\"text-align: right;\">\n",
       "      <th></th>\n",
       "      <th>id</th>\n",
       "      <th>titulo</th>\n",
       "      <th>precio</th>\n",
       "      <th>descripcion</th>\n",
       "      <th>comentarios</th>\n",
       "      <th>rooms</th>\n",
       "      <th>bathrooms</th>\n",
       "      <th>space m2</th>\n",
       "      <th>ubicacion</th>\n",
       "    </tr>\n",
       "  </thead>\n",
       "  <tbody>\n",
       "    <tr>\n",
       "      <th>0</th>\n",
       "      <td>A101195</td>\n",
       "      <td>Apartamento en arriendo en Bucaramanga</td>\n",
       "      <td>830.0</td>\n",
       "      <td>COD:101195: Arriendo hermoso y amplio apartame...</td>\n",
       "      <td>[Superficie cubierta: 75, Superficie total: 75...</td>\n",
       "      <td>3</td>\n",
       "      <td>2</td>\n",
       "      <td>75</td>\n",
       "      <td>Bucaramanga</td>\n",
       "    </tr>\n",
       "    <tr>\n",
       "      <th>1</th>\n",
       "      <td>A101152</td>\n",
       "      <td>Apartamento en arriendo en Bucaramanga</td>\n",
       "      <td>1400.0</td>\n",
       "      <td>COD:101152: Hermoso y amplio apartamento en ar...</td>\n",
       "      <td>[Baño de servicio, Parqueaderos, Comedor, Cuar...</td>\n",
       "      <td>4</td>\n",
       "      <td>3</td>\n",
       "      <td>84</td>\n",
       "      <td>Bucaramanga</td>\n",
       "    </tr>\n",
       "    <tr>\n",
       "      <th>2</th>\n",
       "      <td>A101166</td>\n",
       "      <td>Apartamento en arriendo en Bucaramanga</td>\n",
       "      <td>1200.0</td>\n",
       "      <td>CODIGO -   101166  - Hermoso apartamento ubica...</td>\n",
       "      <td>[Cancha de futbol, Area deportiva, Cancha depo...</td>\n",
       "      <td>2</td>\n",
       "      <td>2</td>\n",
       "      <td>43</td>\n",
       "      <td>Bucaramanga</td>\n",
       "    </tr>\n",
       "    <tr>\n",
       "      <th>3</th>\n",
       "      <td>A101200</td>\n",
       "      <td>Apartamento en arriendo en Bucaramanga</td>\n",
       "      <td>1200.0</td>\n",
       "      <td>COD:101200: Arriendo hermoso y amplio apartame...</td>\n",
       "      <td>[Ropa de cama, Closet]</td>\n",
       "      <td>2</td>\n",
       "      <td>2</td>\n",
       "      <td>66</td>\n",
       "      <td>Bucaramanga</td>\n",
       "    </tr>\n",
       "    <tr>\n",
       "      <th>4</th>\n",
       "      <td>A95595</td>\n",
       "      <td>Apartamento en arriendo en Bucaramanga</td>\n",
       "      <td>2000.0</td>\n",
       "      <td>CODIGO:95595 Se arrienda amplia casa ubicada e...</td>\n",
       "      <td>[Superficie total: 396, Superficie cubierta: 792]</td>\n",
       "      <td>4</td>\n",
       "      <td>4</td>\n",
       "      <td>396</td>\n",
       "      <td>Bucaramanga</td>\n",
       "    </tr>\n",
       "    <tr>\n",
       "      <th>5</th>\n",
       "      <td>4844004</td>\n",
       "      <td>Apartamento en arriendo en Antonia Santos</td>\n",
       "      <td>1150.0</td>\n",
       "      <td>M.J Grupo Inmobiliario sas arrienda apartament...</td>\n",
       "      <td>[Baños: 2, Parqueaderos, Habitaciones, Cantida...</td>\n",
       "      <td>3</td>\n",
       "      <td>2</td>\n",
       "      <td>90</td>\n",
       "      <td>Antonia Santos</td>\n",
       "    </tr>\n",
       "    <tr>\n",
       "      <th>6</th>\n",
       "      <td>4864977</td>\n",
       "      <td>Apartamento en arriendo en Bucaramanga</td>\n",
       "      <td>1300.0</td>\n",
       "      <td>M.J. grupo inmobiliario arrienda o vende apart...</td>\n",
       "      <td>[Superficie cubierta: 80, Superficie del terre...</td>\n",
       "      <td>3</td>\n",
       "      <td>2</td>\n",
       "      <td>80</td>\n",
       "      <td>Bucaramanga</td>\n",
       "    </tr>\n",
       "    <tr>\n",
       "      <th>7</th>\n",
       "      <td>4869083</td>\n",
       "      <td>Apartamento en arriendo en Bucaramanga</td>\n",
       "      <td>1100.0</td>\n",
       "      <td>Se Arrienda Casa en Hacienda San Juan en Flori...</td>\n",
       "      <td>[Largo del terreno (mts): 88, Superficie del t...</td>\n",
       "      <td>4</td>\n",
       "      <td>3</td>\n",
       "      <td>88</td>\n",
       "      <td>Bucaramanga</td>\n",
       "    </tr>\n",
       "    <tr>\n",
       "      <th>8</th>\n",
       "      <td>4887879</td>\n",
       "      <td>Apartamento en arriendo en Antonia Santos</td>\n",
       "      <td>1150.0</td>\n",
       "      <td>M.J. grupo inmobiliario arrienda apartamento e...</td>\n",
       "      <td>[Baños: 2, Habitaciones, Cantidad de habitacio...</td>\n",
       "      <td>3</td>\n",
       "      <td>2</td>\n",
       "      <td>80</td>\n",
       "      <td>Antonia Santos</td>\n",
       "    </tr>\n",
       "    <tr>\n",
       "      <th>9</th>\n",
       "      <td>A100955</td>\n",
       "      <td>Apartamento en arriendo en Bucaramanga</td>\n",
       "      <td>1800.0</td>\n",
       "      <td>CODIGO -  100955  - Hermoso apartamento en arr...</td>\n",
       "      <td>[Ropa de cama, Closet]</td>\n",
       "      <td>3</td>\n",
       "      <td>2</td>\n",
       "      <td>64</td>\n",
       "      <td>Bucaramanga</td>\n",
       "    </tr>\n",
       "  </tbody>\n",
       "</table>\n",
       "</div>"
      ],
      "text/plain": [
       "        id                                     titulo  precio  \\\n",
       "0  A101195     Apartamento en arriendo en Bucaramanga   830.0   \n",
       "1  A101152     Apartamento en arriendo en Bucaramanga  1400.0   \n",
       "2  A101166     Apartamento en arriendo en Bucaramanga  1200.0   \n",
       "3  A101200     Apartamento en arriendo en Bucaramanga  1200.0   \n",
       "4   A95595     Apartamento en arriendo en Bucaramanga  2000.0   \n",
       "5  4844004  Apartamento en arriendo en Antonia Santos  1150.0   \n",
       "6  4864977     Apartamento en arriendo en Bucaramanga  1300.0   \n",
       "7  4869083     Apartamento en arriendo en Bucaramanga  1100.0   \n",
       "8  4887879  Apartamento en arriendo en Antonia Santos  1150.0   \n",
       "9  A100955     Apartamento en arriendo en Bucaramanga  1800.0   \n",
       "\n",
       "                                         descripcion  \\\n",
       "0  COD:101195: Arriendo hermoso y amplio apartame...   \n",
       "1  COD:101152: Hermoso y amplio apartamento en ar...   \n",
       "2  CODIGO -   101166  - Hermoso apartamento ubica...   \n",
       "3  COD:101200: Arriendo hermoso y amplio apartame...   \n",
       "4  CODIGO:95595 Se arrienda amplia casa ubicada e...   \n",
       "5  M.J Grupo Inmobiliario sas arrienda apartament...   \n",
       "6  M.J. grupo inmobiliario arrienda o vende apart...   \n",
       "7  Se Arrienda Casa en Hacienda San Juan en Flori...   \n",
       "8  M.J. grupo inmobiliario arrienda apartamento e...   \n",
       "9  CODIGO -  100955  - Hermoso apartamento en arr...   \n",
       "\n",
       "                                         comentarios  rooms  bathrooms  \\\n",
       "0  [Superficie cubierta: 75, Superficie total: 75...      3          2   \n",
       "1  [Baño de servicio, Parqueaderos, Comedor, Cuar...      4          3   \n",
       "2  [Cancha de futbol, Area deportiva, Cancha depo...      2          2   \n",
       "3                             [Ropa de cama, Closet]      2          2   \n",
       "4  [Superficie total: 396, Superficie cubierta: 792]      4          4   \n",
       "5  [Baños: 2, Parqueaderos, Habitaciones, Cantida...      3          2   \n",
       "6  [Superficie cubierta: 80, Superficie del terre...      3          2   \n",
       "7  [Largo del terreno (mts): 88, Superficie del t...      4          3   \n",
       "8  [Baños: 2, Habitaciones, Cantidad de habitacio...      3          2   \n",
       "9                             [Ropa de cama, Closet]      3          2   \n",
       "\n",
       "   space m2       ubicacion  \n",
       "0        75     Bucaramanga  \n",
       "1        84     Bucaramanga  \n",
       "2        43     Bucaramanga  \n",
       "3        66     Bucaramanga  \n",
       "4       396     Bucaramanga  \n",
       "5        90  Antonia Santos  \n",
       "6        80     Bucaramanga  \n",
       "7        88     Bucaramanga  \n",
       "8        80  Antonia Santos  \n",
       "9        64     Bucaramanga  "
      ]
     },
     "execution_count": 11,
     "metadata": {},
     "output_type": "execute_result"
    }
   ],
   "source": [
    "data.head(10)"
   ]
  },
  {
   "cell_type": "markdown",
   "id": "11886ecd",
   "metadata": {},
   "source": [
    "eliminar registros diferentes al area metropolitana de bucaramanga"
   ]
  },
  {
   "cell_type": "code",
   "execution_count": 12,
   "id": "4b3bcc8d",
   "metadata": {},
   "outputs": [],
   "source": [
    "data.drop(data[data[\"ubicacion\"] == \"Atlántico - Barranquilla - El Prado\"].index, inplace = True)"
   ]
  },
  {
   "cell_type": "code",
   "execution_count": 13,
   "id": "4166fa9a",
   "metadata": {},
   "outputs": [
    {
     "data": {
      "text/plain": [
       "(413, 9)"
      ]
     },
     "execution_count": 13,
     "metadata": {},
     "output_type": "execute_result"
    }
   ],
   "source": [
    "data.shape"
   ]
  },
  {
   "cell_type": "code",
   "execution_count": 24,
   "id": "24e81fe3",
   "metadata": {},
   "outputs": [
    {
     "data": {
      "text/html": [
       "<div>\n",
       "<style scoped>\n",
       "    .dataframe tbody tr th:only-of-type {\n",
       "        vertical-align: middle;\n",
       "    }\n",
       "\n",
       "    .dataframe tbody tr th {\n",
       "        vertical-align: top;\n",
       "    }\n",
       "\n",
       "    .dataframe thead th {\n",
       "        text-align: right;\n",
       "    }\n",
       "</style>\n",
       "<table border=\"1\" class=\"dataframe\">\n",
       "  <thead>\n",
       "    <tr style=\"text-align: right;\">\n",
       "      <th></th>\n",
       "      <th>precio</th>\n",
       "      <th>rooms</th>\n",
       "      <th>bathrooms</th>\n",
       "      <th>space m2</th>\n",
       "    </tr>\n",
       "  </thead>\n",
       "  <tbody>\n",
       "    <tr>\n",
       "      <th>count</th>\n",
       "      <td>413.000000</td>\n",
       "      <td>413.000000</td>\n",
       "      <td>413.000000</td>\n",
       "      <td>413.000000</td>\n",
       "    </tr>\n",
       "    <tr>\n",
       "      <th>mean</th>\n",
       "      <td>1115.665860</td>\n",
       "      <td>2.552058</td>\n",
       "      <td>1.956416</td>\n",
       "      <td>1726.319613</td>\n",
       "    </tr>\n",
       "    <tr>\n",
       "      <th>std</th>\n",
       "      <td>1915.630565</td>\n",
       "      <td>0.892431</td>\n",
       "      <td>0.729436</td>\n",
       "      <td>28547.925198</td>\n",
       "    </tr>\n",
       "    <tr>\n",
       "      <th>min</th>\n",
       "      <td>280.000000</td>\n",
       "      <td>1.000000</td>\n",
       "      <td>1.000000</td>\n",
       "      <td>21.000000</td>\n",
       "    </tr>\n",
       "    <tr>\n",
       "      <th>25%</th>\n",
       "      <td>750.000000</td>\n",
       "      <td>2.000000</td>\n",
       "      <td>1.000000</td>\n",
       "      <td>60.000000</td>\n",
       "    </tr>\n",
       "    <tr>\n",
       "      <th>50%</th>\n",
       "      <td>900.000000</td>\n",
       "      <td>3.000000</td>\n",
       "      <td>2.000000</td>\n",
       "      <td>75.000000</td>\n",
       "    </tr>\n",
       "    <tr>\n",
       "      <th>75%</th>\n",
       "      <td>1150.000000</td>\n",
       "      <td>3.000000</td>\n",
       "      <td>2.000000</td>\n",
       "      <td>88.000000</td>\n",
       "    </tr>\n",
       "    <tr>\n",
       "      <th>max</th>\n",
       "      <td>38000.000000</td>\n",
       "      <td>5.000000</td>\n",
       "      <td>6.000000</td>\n",
       "      <td>570000.000000</td>\n",
       "    </tr>\n",
       "  </tbody>\n",
       "</table>\n",
       "</div>"
      ],
      "text/plain": [
       "             precio       rooms   bathrooms       space m2\n",
       "count    413.000000  413.000000  413.000000     413.000000\n",
       "mean    1115.665860    2.552058    1.956416    1726.319613\n",
       "std     1915.630565    0.892431    0.729436   28547.925198\n",
       "min      280.000000    1.000000    1.000000      21.000000\n",
       "25%      750.000000    2.000000    1.000000      60.000000\n",
       "50%      900.000000    3.000000    2.000000      75.000000\n",
       "75%     1150.000000    3.000000    2.000000      88.000000\n",
       "max    38000.000000    5.000000    6.000000  570000.000000"
      ]
     },
     "execution_count": 24,
     "metadata": {},
     "output_type": "execute_result"
    }
   ],
   "source": [
    "data.describe()"
   ]
  },
  {
   "cell_type": "code",
   "execution_count": 116,
   "id": "15d9d431",
   "metadata": {},
   "outputs": [
    {
     "name": "stdout",
     "output_type": "stream",
     "text": [
      "<pandas.core.groupby.generic.DataFrameGroupBy object at 0x7fb9930a7410>\n"
     ]
    }
   ],
   "source": [
    "hab = data.groupby(data.rooms)\n",
    "print(hab)\n",
    "num_hab = dict(data.rooms.value_counts())\n",
    "bathrooms = dict(data.bathrooms.value_counts())\n",
    "bathrooms = dict(data.bathrooms.value_counts())"
   ]
  },
  {
   "cell_type": "code",
   "execution_count": 151,
   "id": "3f56cd11",
   "metadata": {},
   "outputs": [
    {
     "data": {
      "image/png": "[encoded data removed]",
      "text/plain": [
       "<Figure size 792x288 with 2 Axes>"
      ]
     },
     "metadata": {
      "needs_background": "light"
     },
     "output_type": "display_data"
    }
   ],
   "source": [
    "plt.figure(figsize = (11, 4))\n",
    "\n",
    "plt.subplot(1, 2, 1)\n",
    "plt.bar(num_hab.keys(), num_hab.values(),color=\"orange\")\n",
    "plt.title(\"apartamentos por habitaciones\")\n",
    "plt.subplot(1, 2, 2)\n",
    "plt.bar(bathrooms.keys(), bathrooms.values(),color=\"grey\")\n",
    "plt.title(\"apartamentos por baños\")\n",
    "plt.show()"
   ]
  },
  {
   "cell_type": "code",
   "execution_count": 162,
   "id": "cf71bcf2",
   "metadata": {},
   "outputs": [
    {
     "data": {
      "image/png": "[encoded data removed]",
      "text/plain": [
       "<Figure size 432x288 with 1 Axes>"
      ]
     },
     "metadata": {
      "needs_background": "light"
     },
     "output_type": "display_data"
    }
   ],
   "source": [
    "sectores = dict(data.ubicacion.value_counts())\n",
    "plt.barh(list(sectores.keys()), list(sectores.values()), color=\"turquoise\")\n",
    "plt.title(\"apartamentos por sector\")\n",
    "plt.show()\n"
   ]
  },
  {
   "cell_type": "markdown",
   "id": "43f2ae85",
   "metadata": {},
   "source": [
    "podemos observar que la sectorizacion de los apartamentos en arriendo no estan del todo completa, por lo que se hace dificil obtener una información precisa de que tanto cambia el precio dependiendo de la ubicación."
   ]
  },
  {
   "cell_type": "code",
   "execution_count": null,
   "id": "4d84a9a1",
   "metadata": {},
   "outputs": [],
   "source": []
  }
 ],
 "metadata": {
  "kernelspec": {
   "display_name": "Python 3 (ipykernel)",
   "language": "python",
   "name": "python3"
  },
  "language_info": {
   "codemirror_mode": {
    "name": "ipython",
    "version": 3
   },
   "file_extension": ".py",
   "mimetype": "text/x-python",
   "name": "python",
   "nbconvert_exporter": "python",
   "pygments_lexer": "ipython3",
   "version": "3.7.4"
  }
 },
 "nbformat": 4,
 "nbformat_minor": 5
}
